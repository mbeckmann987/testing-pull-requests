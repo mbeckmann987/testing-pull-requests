{
 "cells": [
  {
   "cell_type": "markdown",
   "id": "b68310b2",
   "metadata": {},
   "source": [
    "# This Is A Test\n",
    "thing for learning git-hub"
   ]
  },
  {
   "cell_type": "code",
   "execution_count": 1,
   "id": "f3f4e50c",
   "metadata": {},
   "outputs": [
    {
     "name": "stdout",
     "output_type": "stream",
     "text": [
      "Hello Marko, Björn here\n"
     ]
    }
   ],
   "source": [
    "print('Hello Marko, Björn here')\n"
   ]
  },
  {
   "cell_type": "code",
   "execution_count": null,
   "id": "dfc3d91a",
   "metadata": {},
   "outputs": [],
   "source": []
  }
 ],
 "metadata": {
  "kernelspec": {
   "display_name": "Python 3",
   "language": "python",
   "name": "python3"
  },
  "language_info": {
   "codemirror_mode": {
    "name": "ipython",
    "version": 3
   },
   "file_extension": ".py",
   "mimetype": "text/x-python",
   "name": "python",
   "nbconvert_exporter": "python",
   "pygments_lexer": "ipython3",
   "version": "3.9.5"
  }
 },
 "nbformat": 4,
 "nbformat_minor": 5
}
